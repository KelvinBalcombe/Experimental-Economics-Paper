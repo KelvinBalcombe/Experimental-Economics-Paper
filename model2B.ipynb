{
 "cells": [
  {
   "cell_type": "markdown",
   "metadata": {},
   "source": [
    "# Model 2: Below this runs the specification described in the paper as Mod2. "
   ]
  },
  {
   "cell_type": "markdown",
   "metadata": {},
   "source": [
    "a) In order for this model to run correctly, the lotteries need to be ordered and compressed so that each payoff is associated with only one probability (this can be done using the ecs python code below if using python)\n",
    "b) Prior to estimation the cumulative and decumlative distributions also need to be constructed and entered as data rather than being calculated within the code. This code employs the cumulative and decumulative distributions rather than the probability themselves. Likewise the domain of each lottery pair needs to be inputted.\n",
    "c) The code requires that each respondent has performed the same number of tasks\n",
    "d) Lotteries need to have the same number of payoffs but if lotteries contain payoffs with zero probabilities then the code will simply treat these as lower dimensional lotteries"
   ]
  },
  {
   "cell_type": "markdown",
   "metadata": {},
   "source": [
    "The file below (prepare.py) needs to be in the working directory of this file. The prepare file is a helper file that has a number of useful functions that are employed both in data construction and subsequent analysis. The relies on the shortercuts file which brings in some other features, this therefore also needs to be in the working directory"
   ]
  },
  {
   "cell_type": "code",
   "execution_count": 1,
   "metadata": {},
   "outputs": [
    {
     "name": "stdout",
     "output_type": "stream",
     "text": [
      "current path C:\\Users\\aes05kgb\\Kelvin\\Kel1\\Risk\\Pystan\\model2\n"
     ]
    }
   ],
   "source": [
    "from prepare import *\n",
    "ecs=equalize_and_compress_and_sort"
   ]
  },
  {
   "cell_type": "markdown",
   "metadata": {},
   "source": [
    "The following first of all compiles and saves the stan code. If you have previously compiled the stand code you can skip this step and go to the loadmodel step.\n",
    "\n",
    "Note that both the compiled code and the MCMC output will be saved given the names below into the working directory."
   ]
  },
  {
   "cell_type": "code",
   "execution_count": 6,
   "metadata": {},
   "outputs": [],
   "source": [
    "function=  \"\"\"\n",
    "  functions \n",
    "    {\n",
    "     real makep(real p)\n",
    "        {real q;\n",
    "           {if (p<=0)\n",
    "               q=10^-12;\n",
    "            else\n",
    "               {if (p>=1)\n",
    "                  q=1;\n",
    "                else\n",
    "                  q=p;\n",
    "               }\n",
    "            }\n",
    "         return q;  \n",
    "        }\n",
    "    \n",
    "    real uf(real x,real alpha,real beta,real lamda,real omega1,real omega2,real omega3,real omega4) //the utility functiton\n",
    "        { real z;\n",
    "            {if (x>=0)\n",
    "                z=(fabs(x)^alpha)*(1/(1+omega1*exp(-omega2*x)));\n",
    "             else\n",
    "                z=-lamda*(fabs(x)^beta)*(1/(1+omega3*exp(omega4*x)));\n",
    "            }\n",
    "        return z;    \n",
    "        }\n",
    "    \n",
    "    real pf(real p,real alpha,real beta)             // probability weighting function\n",
    "        {real z; real h;\n",
    "               { h=makep(p);\n",
    "                 z=exp(-beta*(((-log(h))^alpha)));\n",
    "            } \n",
    "        return z;    \n",
    "        }  \n",
    "    vector vpf(vector p,int N,real alpha,real beta)  //vector probability weighting funciton\n",
    "        {\n",
    "         vector[N] z; \n",
    "         for(i in 1:N) \n",
    "            {\n",
    "            z[i]=pf(p[i],alpha,beta);\n",
    "            } \n",
    "        return z;\n",
    "        }    \n",
    "    vector vuf(vector x,int N,real alpha,real beta,real lamda,real omega1,real omega2,real omega3,real omega4)  //vector utility function\n",
    "        {\n",
    "        vector[N] z; \n",
    "        for(i in 1:N) \n",
    "            {\n",
    "            z[i]=uf(x[i],alpha,beta,lamda,omega1,omega2,omega3,omega4);\n",
    "            } \n",
    "        return z;\n",
    "        }\n",
    "    \n",
    "    real evf(vector x,int N,vector w, vector W)             //expected value function\n",
    "        {\n",
    "        real z;\n",
    "        z=0;\n",
    "        for(i in 1:N) \n",
    "            {if (x[i]>=0)\n",
    "                z=z+w[i]*x[i];\n",
    "             else\n",
    "                z=z+W[i]*x[i];\n",
    "            } \n",
    "        return z;\n",
    "        }  \n",
    "        \n",
    "     vector adcf(vector p,int N)                              //anti decumulative function\n",
    "        {\n",
    "        vector[N] z; int i;\n",
    "        for(j in 1:N) \n",
    "            {i=N-j+1;\n",
    "            if (i==N)\n",
    "                z[i]=p[i];\n",
    "            else\n",
    "                z[i]=p[i]-p[i+1];\n",
    "            } \n",
    "        return z;\n",
    "        }\n",
    "      vector acf(vector p,int N)                               //takes the anticumulative\n",
    "        {\n",
    "        vector[N] z; \n",
    "        for(i in 1:N) \n",
    "            {\n",
    "            if (i==1)\n",
    "                z[i]=p[i];\n",
    "            else\n",
    "                z[i]=p[i]-p[i-1];\n",
    "            } \n",
    "        return z;\n",
    "        }  \n",
    "    }\n",
    "\n",
    "data {int N;int M; int T; int y[T,M];\n",
    "       vector[N] xA[T,M];vector[N] xB[T,M];vector[N] FA[T,M];\n",
    "       vector[N] PA[T,M];vector[N] FB[T,M];vector[N] PB[T,M];\n",
    "       real m_alpha;real m_beta;real m_lamda; \n",
    "       real m_gama1;real m_gama2;real m_delta1; real m_delta2; real m_scale;\n",
    "       real s_alpha;real s_beta;real s_lamda; \n",
    "       real s_gama1;real s_gama2;real s_delta1; real s_delta2; real s_scale;\n",
    "       int Domain[T,M];\n",
    "       }\n",
    "\n",
    "parameters{real<lower=0.05,upper=2.5> alpha; \n",
    "           real<lower=0.05,upper=2.5> beta; \n",
    "           real<lower=-2.3,upper=2.3> lamda; //This is in fact the log of lambda\n",
    "           real<lower=0.25,upper=2.5> gama1; \n",
    "           real<lower=0.25,upper=2.5> gama2; \n",
    "           real<lower=0.25,upper=2.5> delta1;\n",
    "           real<lower=0.25,upper=2.5> delta2;\n",
    "           real<lower=-3,  upper=3>scale[3];\n",
    "           \n",
    "           real<lower=0.01,upper=3> alpha_[T]; \n",
    "           real<lower=0.01,upper=3> beta_[T]; \n",
    "           real<lower=-2.5,upper=2.5> llamda_[T];\n",
    "           real<lower=0.1,upper=3> gama1_[T]; \n",
    "           real<lower=0.1,upper=3> gama2_[T];\n",
    "           real<lower=0.1,upper=3> delta1_[T]; \n",
    "           real<lower=0.1,upper=3> delta2_[T];\n",
    "           real<lower=-3,  upper=3> scale_[T,3];\n",
    "           \n",
    "            real<lower=0.001,upper=100> p_alpha;\n",
    "            real<lower=0.001,upper=100> p_beta;\n",
    "            real<lower=0.001,upper=100> p_lamda; \n",
    "            real<lower=0.001,upper=100> p_gama1;\n",
    "            real<lower=0.001,upper=100> p_gama2;\n",
    "            real<lower=0.001,upper=100> p_delta1; \n",
    "            real<lower=0.001,upper=100> p_delta2; \n",
    "            real<lower=0.001,upper=100> p_scale;\n",
    "            \n",
    "            real<lower=0.001,upper=100> p_stbg;\n",
    "            real<lower=0.001,upper=100> p_stbl;\n",
    "            \n",
    "            real<lower=0, upper=10> omega1;\n",
    "            real<lower=0.15, upper=1> omega2;\n",
    "            real<lower=0, upper=10> omega3;\n",
    "            real<lower=0.15, upper=1> omega4;\n",
    "            \n",
    "            real<lower=.5,upper=1.5> stbg;\n",
    "            real<lower=.5,upper=1.5> stbl;\n",
    "            real<lower=.4,upper=1.6> stbg_[T];\n",
    "            real<lower=.4,upper=1.6> stbl_[T];\n",
    "           }\n",
    "           \n",
    "transformed parameters {vector[N] vA[T,M]; vector[N] vB[T,M];\n",
    "                        vector[N] FA_[T,M];vector[N] PA_[T,M]; \n",
    "                        vector[N] FB_[T,M];vector[N] PB_[T,M];  \n",
    "                        vector[N] WFA[T,M]; vector[N] WPA[T,M];\n",
    "                        vector[N] WFB[T,M]; vector[N] WPB[T,M];\n",
    "                                          \n",
    "                        real evA_[T,M]; \n",
    "                        real evB_[T,M]; \n",
    "                        real euA_[T,M]; \n",
    "                        real euB_[T,M]; \n",
    "                        real CEA_[T,M];  \n",
    "                        real CEB_[T,M];\n",
    "                        \n",
    "                        vector[2] MU[T,M];\n",
    "                        \n",
    "                        real sd_alpha=1/sqrt(p_alpha);\n",
    "                        real sd_beta=1/sqrt(p_beta);\n",
    "                        real sd_lamda=1/sqrt(p_lamda);\n",
    "                        real sd_gama1=1/sqrt(p_gama1);\n",
    "                        real sd_gama2=1/sqrt(p_gama2);\n",
    "                        real sd_delta1=1/sqrt(p_delta1); \n",
    "                        real sd_delta2=1/sqrt(p_delta2); \n",
    "                        real sd_scale=1/sqrt(p_scale);\n",
    "                        \n",
    "                        real sd_stbg=1/sqrt(p_stbg);\n",
    "                        real sd_stbl=1/sqrt(p_stbl);\n",
    "                        \n",
    "                        real lamda_[T];                                 \n",
    "                        for (t in 1:T){lamda_[t]=exp(llamda_[t]);}; \n",
    "                        \n",
    "                        for (t in 1:T)\n",
    "                        {\n",
    "                        for (i in  1:M){\n",
    "                        vA[t,i]=vuf(xA[t,i],N,alpha_[t],beta_[t],lamda_[t],omega1,omega2,omega3,omega4);  //vector of utilities\n",
    "                        vB[t,i]=vuf(xB[t,i],N,alpha_[t],beta_[t],lamda_[t],omega1,omega2,omega3,omega4);  //vector of utilities\n",
    "                        \n",
    "                        PA_[t,i]=vpf(PA[t,i],N,delta1_[t],delta2_[t]);        //cumulative transformed A\n",
    "                        FA_[t,i]=vpf(FA[t,i],N,gama1_[t],gama2_[t]);          //decumulative transformed A\n",
    "                        \n",
    "                        PB_[t,i]=vpf(PB[t,i],N,delta1_[t],delta2_[t]);         //cumulative transformed B\n",
    "                        FB_[t,i]=vpf(FB[t,i],N,gama1_[t],gama2_[t]);           //decumulative transformed B\n",
    "                               \n",
    "                        WPA[t,i]=acf(PA_[t,i],N);                              //weights loss domain A\n",
    "                        WFA[t,i]=adcf(FA_[t,i],N);                             //weights gain domain A\n",
    "                        \n",
    "                        WPB[t,i]=acf(PB_[t,i],N);                              //weights loss domain B\n",
    "                        WFB[t,i]=adcf(FB_[t,i],N);                             //weights gain domain B\n",
    "                        \n",
    "                        euA_[t,i]=evf(vA[t,i],N,WFA[t,i],WPA[t,i]);           // PT expected utility A\n",
    "                        euB_[t,i]=evf(vB[t,i],N,WFB[t,i],WPB[t,i]);            // PT expected utility B\n",
    "                        \n",
    "                        evA_[t,i]=evf(xA[t,i],N,WFA[t,i],WPA[t,i]);               // PT ev\n",
    "                        evB_[t,i]=evf(xB[t,i],N,WFB[t,i],WPB[t,i]);               // PT ev\n",
    "                        \n",
    "                    \n",
    "                        {MU[t][i,1]=euA_[t,i];\n",
    "                        if (euB_[t,i]>0)\n",
    "                                  MU[t][i,2]=euB_[t,i]*stbg_[t];\n",
    "                         else\n",
    "                                  MU[t][i,2]=euB_[t,i]*stbl_[t];\n",
    "                        }              \n",
    "                        \n",
    "                                      } \n",
    "                        }\n",
    "                        }\n",
    "                        \n",
    "model {\n",
    "       alpha~normal(m_alpha,s_alpha);     \n",
    "       beta~normal(m_beta,s_beta);        \n",
    "       lamda~normal(m_lamda,s_lamda);     \n",
    "       gama1~normal(m_gama1,s_gama1);     \n",
    "       gama2~normal(m_gama2,s_gama2);     \n",
    "       delta1~normal(m_delta1,s_delta1);  \n",
    "       delta2~normal(m_delta2,s_delta2); \n",
    "       #scale~normal(m_scale,s_scale);  \n",
    "       \n",
    "       p_alpha~gamma(1,.25);\n",
    "       p_beta~gamma(1,.25);\n",
    "       p_lamda~gamma(1,.25);\n",
    "       p_gama1~gamma(1,.25);\n",
    "       p_gama2~gamma(1,.25);\n",
    "       p_delta1~gamma(1,.25); \n",
    "       p_delta2~gamma(1,.25); \n",
    "       p_scale~gamma(1,1);\n",
    "       \n",
    "       p_stbg~gamma(.1,.01);\n",
    "       p_stbl~gamma(.1,.01);\n",
    "       \n",
    "       omega1~normal(0,3);\n",
    "       omega3~normal(0,3);\n",
    "       \n",
    "       stbg~normal(1,1);\n",
    "       stbl~normal(1,1);\n",
    "       \n",
    "       for (j in 1:3){scale[j]~normal(m_scale,s_scale); }\n",
    "       \n",
    "       for(t in 1:T)\n",
    "             {  \n",
    "              alpha_[t]~normal(alpha,sd_alpha);\n",
    "              beta_[t]~normal(beta,sd_beta);\n",
    "              llamda_[t]~normal(lamda,sd_lamda);\n",
    "              gama1_[t]~normal(gama1,sd_gama1);\n",
    "              gama2_[t]~normal(gama2,sd_gama2);\n",
    "              delta1_[t]~normal(delta1,sd_delta1);\n",
    "              delta2_[t]~normal(delta2,sd_delta2);\n",
    "              \n",
    "              stbg_[t]~normal(stbg,sd_stbg);\n",
    "              stbl_[t]~normal(stbl,sd_stbl);\n",
    "              \n",
    "              for (j in 1:3){ scale_[t,j]~normal(scale[j],sd_scale);}  \n",
    "               \n",
    "              for(i in 1:M) {  \n",
    "                                y[t,i] ~ categorical_logit(exp(scale_[t,Domain[t,i]])*MU[t][i]);\n",
    "                             }\n",
    "              }\n",
    "      }\n",
    "      \n",
    "generated quantities {vector[T*M] log_lik; int j;\n",
    "                        j=1;    \n",
    "                        for (t in 1:T) {\n",
    "                            for (i in 1:M) {\n",
    "                                      log_lik[j] =log_softmax(exp(scale_[t,Domain[t,i]])*MU[t][i])[y[t,i]];\n",
    "                                      j=j+1;\n",
    "                                          }\n",
    "                                        }\n",
    "                     } \n",
    "\"\"\""
   ]
  },
  {
   "cell_type": "code",
   "execution_count": 7,
   "metadata": {},
   "outputs": [
    {
     "name": "stderr",
     "output_type": "stream",
     "text": [
      "INFO:pystan:COMPILING THE C++ CODE FOR MODEL anon_model_1b034d105c4771ce5548a4d76f52ccef NOW.\n"
     ]
    }
   ],
   "source": [
    "sm = pystan.StanModel(model_code=function)"
   ]
  },
  {
   "cell_type": "code",
   "execution_count": 8,
   "metadata": {},
   "outputs": [],
   "source": [
    "#Save the compiled code\n",
    "savemodel(sm,'model2B')"
   ]
  },
  {
   "cell_type": "markdown",
   "metadata": {},
   "source": [
    "If you previously have compiled the codel you should be able to load the model below"
   ]
  },
  {
   "cell_type": "code",
   "execution_count": 9,
   "metadata": {},
   "outputs": [],
   "source": [
    "#Load the compiled code if has already been compiled\n",
    "sm=loadmodel('model2B')"
   ]
  },
  {
   "cell_type": "markdown",
   "metadata": {},
   "source": [
    "## Loading and processing the data"
   ]
  },
  {
   "cell_type": "code",
   "execution_count": 10,
   "metadata": {},
   "outputs": [],
   "source": [
    "#The data contains 14300 rows and 45 columns, it has different treatments etc but we will not use these\n",
    "#It is assumed below that the file is sitting in your working directory\n",
    "dat=pd.read_excel('Fulldata3.xlsx')"
   ]
  },
  {
   "cell_type": "code",
   "execution_count": 11,
   "metadata": {},
   "outputs": [
    {
     "name": "stderr",
     "output_type": "stream",
     "text": [
      "INFO:numexpr.utils:Note: NumExpr detected 12 cores but \"NUMEXPR_MAX_THREADS\" not set, so enforcing safe limit of 8.\n",
      "INFO:numexpr.utils:NumExpr defaulting to 8 threads.\n"
     ]
    },
    {
     "data": {
      "text/plain": [
       "[4800, 3500, 2900, 3100]"
      ]
     },
     "execution_count": 11,
     "metadata": {},
     "output_type": "execute_result"
    }
   ],
   "source": [
    "s3=dat['Score']==3\n",
    "s2=dat['Score']==2\n",
    "s1=dat['Score']==1\n",
    "s0=dat['Score']==0\n",
    "\n",
    "dat3=dat[s3]\n",
    "dat2=dat[s2]\n",
    "dat1=dat[s1]\n",
    "dat0=dat[s0]\n",
    "[rows(dat0),rows(dat1),rows(dat2),rows(dat3)]\n"
   ]
  },
  {
   "cell_type": "code",
   "execution_count": 12,
   "metadata": {},
   "outputs": [],
   "source": [
    "from shortercuts import pltsize\n",
    "pltsize(5,20)\n",
    "xA=twodma(dat[['prize1l','prize2l','prize3l']].fillna(0))\n",
    "pA=twodma(dat[['p1left','p2left','p3left']].fillna(0))\n",
    "#xA*pA\n",
    "\n",
    "xB=twodma(dat[['prize1r','prize2r','prize3r']].fillna(0))\n",
    "pB=twodma(dat[['p1right','p2right','p3right']].fillna(0))\n",
    "ev=frame(sumc((xA*pA).T)-sumc((xB*pB).T))\n",
    "ev.index=dat.index\n",
    "#cc([dat[['choices']],ev])[1:500].plot()\n",
    "s=pA==0\n",
    "two=sumc(s.T)\n",
    "ideas=sorted(list(set(dat['id'])))"
   ]
  },
  {
   "cell_type": "code",
   "execution_count": 13,
   "metadata": {},
   "outputs": [],
   "source": [
    "#Create a variable specifying the domain of the gamble as 1,2,3 below\n",
    "dat['Dom']=(dat['Gains']==1)*1+(dat['Loss']==1)*2+(dat['Mixed']==1)*3\n",
    "\n",
    "#All lotteries have up to three payoffs. However, there are missing values that should be given zeros\n",
    "xA=twodma(dat[['prize1l','prize2l','prize3l']].fillna(0))\n",
    "pA=twodma(dat[['p1left','p2left','p3left']].fillna(0))\n",
    "pA=pA/sumc(pA.T)\n",
    "xB=twodma(dat[['prize1r','prize2r','prize3r']].fillna(0))\n",
    "pB=twodma(dat[['p1right','p2right','p3right']].fillna(0))\n",
    "pB=pB/sumc(pB.T)\n",
    "\n",
    "#The lotteries are not ordered and can contain repeated values, \n",
    "#The ecs function (written in python) compressess them into unique value and orders \n",
    "xA_,pA_=ecs(xA,pA)\n",
    "xB_,pB_=ecs(xB,pB)\n",
    "\n",
    "#Create the cumulative and decumulative vectors for options A and B\n",
    "PA=cumdist(pA_)\n",
    "FA=dcumdist(pA_)\n",
    "PB=cumdist(pB_)\n",
    "FB=dcumdist(pB_)\n",
    "\n",
    "Y=array(-dat['choices']+2) #relabel the choices 1 for A and 2 for B, originally 0 and 1\n",
    "DOM=array(dat['Dom'])\n",
    "ideas=sorted(list(set(dat['id'])))\n",
    "\n",
    "s=pA==0\n",
    "two=sumc(s.T)\n",
    "two=two.reshape(143,100)"
   ]
  },
  {
   "cell_type": "code",
   "execution_count": 14,
   "metadata": {},
   "outputs": [],
   "source": [
    "#Now create the arrays that can be read in a format that can be put into STAN\n",
    "#The dimensions will match that in the Stan Code\n",
    "y,xa,xb,fa,fb,pa,pb,dom=[],[],[],[],[],[],[],[]\n",
    "\n",
    "\n",
    "M=100  #The number of tasks performed by each person\n",
    "\n",
    "#Data is organised into responses by individuals\n",
    "j=0\n",
    "for i in ideas:\n",
    "    y+=[Y[j:j+M]]      #The Choices\n",
    "    xa+=[xA_[j:j+M,:]] #Lottery A Payoffs\n",
    "    xb+=[xB_[j:j+M,:]] #Lottery B Payoffs\n",
    "    fa+=[FA[j:j+M,:]]  #DeCumulative distribution for A\n",
    "    fb+=[FB[j:j+M,:]]  #DeCumulative distribution for B\n",
    "    pa+=[PA[j:j+M,:]]  #Cumulative distribution for A \n",
    "    pb+=[PB[j:j+M,:]]  #Cumulative distribution for B\n",
    "    dom+=[DOM[j:j+M]]  #Specify the domain of the lottery\n",
    "    j=j+M\n",
    "    #print(j,j+M,rows(xA_[j:j+M,:]))\n",
    "    \n",
    "N=3           #The potential number of payoffs\n",
    "T=len(ideas)  #The number of people"
   ]
  },
  {
   "cell_type": "code",
   "execution_count": 15,
   "metadata": {},
   "outputs": [],
   "source": [
    "sd=0.33\n",
    "\n",
    "data={'T':T,     #Number of people\n",
    "      'N':N,      #Number of payoffs in each lottery\n",
    "      'M':M,      #Number of choices made by an individual\n",
    "      'y':y,  #Choices\n",
    "      'Domain':dom,\n",
    "      \n",
    "      'xA':xa, # T by M array of N vectors \n",
    "      'xB':xb, # T by M array of N vectors \n",
    "      \n",
    "      'FA':fa, # T by M array of N vectors \n",
    "      'PA':pa, # T by M array of N vectors \n",
    "    \n",
    "      'FB':fb, # T by M array of N vectors \n",
    "      'PB':pb, # T by M array of N vectors \n",
    "      \n",
    "      'm_alpha':1,'m_beta':1,'m_lamda':0,     #means of utility parameters\n",
    "      'm_gama1':1,'m_gama2':1,                #means of prob weighting parameters in gain domain  \n",
    "      'm_delta1':1,'m_delta2':1,              #means of prob weighting parameters in loss domain\n",
    "      'm_scale':1,\n",
    "      \n",
    "      's_alpha':0.5,'s_beta':.5,'s_lamda':.5,  #sd of mean utility parameters\n",
    "      's_gama1':sd,'s_gama2':sd,               #sd of mean prob weighting parameters in gain domain  \n",
    "      's_delta1':sd,'s_delta2':sd,             #sd of mean prob weighting parameters in loss domain\n",
    "      's_scale':3,\n",
    "      \n",
    "     }"
   ]
  },
  {
   "cell_type": "markdown",
   "metadata": {},
   "source": [
    "# Running the model (note that this might take 10 or 12 hours)"
   ]
  },
  {
   "cell_type": "code",
   "execution_count": 16,
   "metadata": {},
   "outputs": [
    {
     "name": "stderr",
     "output_type": "stream",
     "text": [
      "WARNING:pystan:Maximum (flat) parameter count (1000) exceeded: skipping diagnostic tests for n_eff and Rhat.\n",
      "To run all diagnostics call pystan.check_hmc_diagnostics(fit)\n"
     ]
    }
   ],
   "source": [
    "pars=('alpha','beta','lamda','scale','delta1','delta2','gama1','gama2','alpha_','beta_','lamda_','delta1_','delta2_',\n",
    "      'gama1_','gama2_','omega1','omega2','omega3','omega4','log_lik','stbg','stbl','stbg_','stbl_')\n",
    "fit = sm.sampling(data=data,iter=2250,warmup=1000, chains=8,thin=1,pars=pars)"
   ]
  },
  {
   "cell_type": "code",
   "execution_count": 17,
   "metadata": {},
   "outputs": [
    {
     "name": "stdout",
     "output_type": "stream",
     "text": [
      "alpha (10000,)\n",
      "beta (10000,)\n",
      "lamda (10000,)\n",
      "scale (10000, 3)\n",
      "delta1 (10000,)\n",
      "delta2 (10000,)\n",
      "gama1 (10000,)\n",
      "gama2 (10000,)\n",
      "alpha_ (10000, 143)\n",
      "beta_ (10000, 143)\n",
      "lamda_ (10000, 143)\n",
      "delta1_ (10000, 143)\n",
      "delta2_ (10000, 143)\n",
      "gama1_ (10000, 143)\n",
      "gama2_ (10000, 143)\n",
      "omega1 (10000,)\n",
      "omega2 (10000,)\n",
      "omega3 (10000,)\n",
      "omega4 (10000,)\n",
      "log_lik (10000, 14300)\n",
      "stbg (10000,)\n",
      "stbl (10000,)\n",
      "stbg_ (10000, 143)\n",
      "stbl_ (10000, 143)\n",
      "lp__ (10000,)\n"
     ]
    }
   ],
   "source": [
    "z=pull(fit)"
   ]
  },
  {
   "cell_type": "code",
   "execution_count": 18,
   "metadata": {},
   "outputs": [],
   "source": [
    "#save the MCMC otuput if run by stan, you might want to hash this out once you have saved the model once\n",
    "#this will go to the working directory\n",
    "savemodel(z,'model2bmcmc')"
   ]
  }
 ],
 "metadata": {
  "kernelspec": {
   "display_name": "Python 3",
   "language": "python",
   "name": "python3"
  },
  "language_info": {
   "codemirror_mode": {
    "name": "ipython",
    "version": 3
   },
   "file_extension": ".py",
   "mimetype": "text/x-python",
   "name": "python",
   "nbconvert_exporter": "python",
   "pygments_lexer": "ipython3",
   "version": "3.8.5"
  }
 },
 "nbformat": 4,
 "nbformat_minor": 2
}
